{
 "cells": [
  {
   "cell_type": "code",
   "execution_count": 2,
   "metadata": {
    "colab": {
     "base_uri": "https://localhost:8080/",
     "height": 562
    },
    "colab_type": "code",
    "id": "oEYBIobuF80j",
    "outputId": "889e04fa-369c-41e9-97ce-1298e7502f58"
   },
   "outputs": [],
   "source": [
    "from keras.applications.resnet50 import ResNet50\n",
    "from keras.preprocessing import image\n",
    "from keras.applications.resnet50 import preprocess_input, decode_predictions\n",
    "import numpy as np\n",
    "\n",
    "model = ResNet50(weights='imagenet')"
   ]
  },
  {
   "cell_type": "code",
   "execution_count": null,
   "metadata": {
    "colab": {},
    "colab_type": "code",
    "id": "Xk4m7w8-GgNd"
   },
   "outputs": [],
   "source": [
    "from os import popen"
   ]
  },
  {
   "cell_type": "code",
   "execution_count": 71,
   "metadata": {
    "colab": {
     "base_uri": "https://localhost:8080/",
     "height": 429
    },
    "colab_type": "code",
    "id": "5Ne_Yba0GkfE",
    "outputId": "e5083cda-0135-43bb-c509-e45da7f17cf5"
   },
   "outputs": [
    {
     "name": "stdout",
     "output_type": "stream",
     "text": [
      "image0.jpeg hog 98.0201005935669\n",
      "image10.jpeg hog 99.59281086921692\n",
      "image12.jpeg hog 91.03721976280212\n",
      "image13.jpeg hog 91.03721976280212\n",
      "image14.jpeg hog 99.57276582717896\n",
      "image15.jpeg hog 99.99712705612183\n",
      "image16.jpeg hog 99.99712705612183\n",
      "image17.jpeg hog 99.3649423122406\n",
      "image18.jpeg hog 99.3649423122406\n",
      "image21.jpeg hog 99.58694577217102\n",
      "image26.jpeg hog 99.98229146003723\n",
      "image27.jpeg hog 99.98229146003723\n",
      "image28.jpeg hog 98.37835431098938\n",
      "image29.jpeg hog 98.37835431098938\n",
      "image32.jpeg hog 99.79830980300903\n",
      "image33.jpeg hog 99.79830980300903\n",
      "image34.jpeg hog 95.75227499008179\n",
      "image35.jpeg hog 95.75227499008179\n",
      "image3.jpeg hog 90.39403200149536\n",
      "image4.jpeg hog 90.39403200149536\n",
      "image9.jpeg hog 99.59281086921692\n",
      "image.jpeg hog 98.0201005935669\n"
     ]
    }
   ],
   "source": [
    "for p in popen(\"ls input/image_porcos/test/\").read().split():\n",
    "  imagem_pig = \"./input/image_porcos/test/\"+str(p)\n",
    "  img_path = imagem_pig\n",
    "  img = image.load_img(img_path, target_size=(224, 224))\n",
    "  x = image.img_to_array(img)\n",
    "  x = np.expand_dims(x, axis=0)\n",
    "  x = preprocess_input(x)\n",
    "  preds = model.predict(x)\n",
    "  for x in decode_predictions(preds, top=3)[0]:\n",
    "    if list(x)[2]*100 > 90 and list(x)[1] == \"hog\":\n",
    "     print (p,list(x)[1],list(x)[2]*100)\n",
    "\n",
    "  "
   ]
  },
  {
   "cell_type": "code",
   "execution_count": null,
   "metadata": {
    "colab": {},
    "colab_type": "code",
    "id": "FbhrVM4sGtbE"
   },
   "outputs": [],
   "source": []
  }
 ],
 "metadata": {
  "accelerator": "GPU",
  "colab": {
   "collapsed_sections": [],
   "name": "Testando ResNet50 para Classificação de Porcos.ipynb",
   "provenance": []
  },
  "kernelspec": {
   "display_name": "Python 3",
   "language": "python",
   "name": "python3"
  },
  "language_info": {
   "codemirror_mode": {
    "name": "ipython",
    "version": 3
   },
   "file_extension": ".py",
   "mimetype": "text/x-python",
   "name": "python",
   "nbconvert_exporter": "python",
   "pygments_lexer": "ipython3",
   "version": "3.7.5"
  }
 },
 "nbformat": 4,
 "nbformat_minor": 4
}
